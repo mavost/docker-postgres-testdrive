{
 "cells": [
  {
   "cell_type": "markdown",
   "metadata": {},
   "source": [
    "## Run a test using PostgreSQL connector\n",
    "\n",
    "### Starting the stack\n",
    "`make compose-up`"
   ]
  },
  {
   "cell_type": "code",
   "execution_count": null,
   "metadata": {},
   "outputs": [],
   "source": [
    "import psycopg\n",
    "import pandas as pd\n",
    "\n",
    "DB_HOST = \"localhost\"\n",
    "DB_PORT = \"5432\"\n",
    "DB_NAME = \"world-db\"\n",
    "DB_USER = \"world\"\n",
    "DB_PASS = \"world123\"\n",
    "\n",
    "with psycopg.connect(dbname=DB_NAME, user=DB_USER, password=DB_PASS, host=DB_HOST, port=DB_PORT) as conn:\n",
    "\n",
    "    with conn.cursor() as cur:\n",
    "        cur.execute(\"select count(*) from city\")\n",
    "        row = cur.fetchone()\n",
    "        print('Count = ', row[0])"
   ]
  },
  {
   "cell_type": "code",
   "execution_count": null,
   "metadata": {},
   "outputs": [],
   "source": [
    "with psycopg2.connect(dbname=DB_NAME, user=DB_USER, password=DB_PASS, host=DB_HOST, port=DB_PORT) as conn:\n",
    "    with conn.cursor() as cur:\n",
    "        sql = ''' \n",
    "            SELECT district, sum(population) as popsum\n",
    "                FROM city WHERE country_code = 'BRA' \n",
    "                GROUP BY district \n",
    "                HAVING SUM(population)>10000000 \n",
    "                LIMIT 10\n",
    "        '''\n",
    "        cur.execute(query=sql)\n",
    "#        result = cur.fetchall()\n",
    "\n",
    "# generator\n",
    "#def rows(result):\n",
    "#    for item in result:\n",
    "#        yield item\n",
    "\n",
    "#for row in rows(result):\n",
    "        for row in cur:\n",
    "            print(row)"
   ]
  },
  {
   "cell_type": "code",
   "execution_count": null,
   "metadata": {},
   "outputs": [],
   "source": [
    "conn_string = f\"host='{DB_HOST}' port={DB_PORT} dbname='{DB_NAME}' user={DB_USER} password={DB_PASS}\"\n",
    "\n",
    "with psycopg2.connect(conn_string) as conn:\n",
    "    dat = pd.read_sql_query(sql, conn)\n",
    "\n",
    "dat"
   ]
  },
  {
   "cell_type": "code",
   "execution_count": null,
   "metadata": {},
   "outputs": [],
   "source": []
  }
 ],
 "metadata": {
  "kernelspec": {
   "display_name": "Python 3.10.4 ('my_project_env')",
   "language": "python",
   "name": "python3"
  },
  "language_info": {
   "codemirror_mode": {
    "name": "ipython",
    "version": 3
   },
   "file_extension": ".py",
   "mimetype": "text/x-python",
   "name": "python",
   "nbconvert_exporter": "python",
   "pygments_lexer": "ipython3",
   "version": "3.10.12"
  },
  "orig_nbformat": 4,
  "vscode": {
   "interpreter": {
    "hash": "36b42e051d60175b3268952cc046ff4da312a86ca4a9eb352d0199e7f9bbcb1a"
   }
  }
 },
 "nbformat": 4,
 "nbformat_minor": 2
}
